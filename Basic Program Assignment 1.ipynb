{
 "cells": [
  {
   "cell_type": "code",
   "execution_count": 1,
   "metadata": {},
   "outputs": [
    {
     "name": "stdout",
     "output_type": "stream",
     "text": [
      "\"Hello python\"\n"
     ]
    }
   ],
   "source": [
    "#1.Write a Python program to print &quot;Hello Python&quot;?\n",
    "\n",
    "print('\"Hello python\"')"
   ]
  },
  {
   "cell_type": "code",
   "execution_count": 2,
   "metadata": {},
   "outputs": [
    {
     "name": "stdout",
     "output_type": "stream",
     "text": [
      "Enter the number 1: 4\n",
      "Enter the number 2: 6\n",
      "Sum of numbers: 10 Division of numbers: 0.6666666666666666\n"
     ]
    }
   ],
   "source": [
    "#2.Write a Python program to do arithmetical operations addition and division.?\n",
    "\n",
    "# taking user input for 2 numbers \n",
    "a=int(input(\"Enter the number 1: \"))\n",
    "\n",
    "b=int(input(\"Enter the number 2: \"))\n",
    "\n",
    "# Assingning addition and division to variables\n",
    "sum=a+b\n",
    "\n",
    "div=a/b\n",
    "\n",
    "# printing the sum and division \n",
    "\n",
    "print(\"Sum of numbers:\" ,sum,\"Division of numbers:\",div)"
   ]
  },
  {
   "cell_type": "code",
   "execution_count": 3,
   "metadata": {},
   "outputs": [
    {
     "name": "stdout",
     "output_type": "stream",
     "text": [
      "Enter side1 :2\n",
      "Enter side2 :2\n",
      "Enter side3 :2\n",
      "Area of given triangle : 1.7320508075688772\n"
     ]
    }
   ],
   "source": [
    "#3.Write a Python program to find the area of a triangle?\n",
    "\n",
    "# importing math package\n",
    "\n",
    "import math\n",
    "\n",
    "# taking user input for three sides \n",
    "s1=int(input(\"Enter side1 :\"))\n",
    "\n",
    "s2=int(input(\"Enter side2 :\"))\n",
    "\n",
    "s3=int(input(\"Enter side3 :\"))\n",
    "\n",
    "# taking semi-perimeter of sides\n",
    "\n",
    "s=(s1+s2+s3)/2\n",
    "\n",
    "# finding area using formula below and printing the area\n",
    "\n",
    "Area=math.sqrt(s*(s-s1)*(s-s2)*(s-s3))\n",
    "\n",
    "print(\"Area of given triangle :\", Area)"
   ]
  },
  {
   "cell_type": "code",
   "execution_count": 4,
   "metadata": {},
   "outputs": [
    {
     "name": "stdout",
     "output_type": "stream",
     "text": [
      "Enter first number:65\n",
      "Enter second number: 56\n",
      "normal variables: 65 56\n",
      "swapped variables: 56 65\n"
     ]
    }
   ],
   "source": [
    "#4.Write a Python program to swap two variables?\n",
    "\n",
    "#taking user input of two numbers and printing them\n",
    "a=int(input(\"Enter first number:\"))\n",
    "\n",
    "b=int(input(\"Enter second number: \"))\n",
    "\n",
    "print(\"normal variables:\",a,b)\n",
    "\n",
    "#Assigning values to a temporary variable for swapping\n",
    "temp=b\n",
    "\n",
    "b=a\n",
    "\n",
    "a=temp\n",
    "# printing swapped variables \n",
    "\n",
    "print(\"swapped variables:\",a,b)"
   ]
  },
  {
   "cell_type": "code",
   "execution_count": 5,
   "metadata": {},
   "outputs": [
    {
     "name": "stdout",
     "output_type": "stream",
     "text": [
      "0.19640358482096998\n"
     ]
    }
   ],
   "source": [
    "\n",
    "#5.Write a Python program to generate a random number?\n",
    "\n",
    "#importing random package\n",
    "import random\n",
    "\n",
    "#assigning random number to a variable\n",
    "n=random.random()\n",
    "\n",
    "#printing random number\n",
    "print(n)"
   ]
  },
  {
   "cell_type": "code",
   "execution_count": null,
   "metadata": {},
   "outputs": [],
   "source": []
  }
 ],
 "metadata": {
  "kernelspec": {
   "display_name": "Python 3",
   "language": "python",
   "name": "python3"
  },
  "language_info": {
   "codemirror_mode": {
    "name": "ipython",
    "version": 3
   },
   "file_extension": ".py",
   "mimetype": "text/x-python",
   "name": "python",
   "nbconvert_exporter": "python",
   "pygments_lexer": "ipython3",
   "version": "3.7.3"
  }
 },
 "nbformat": 4,
 "nbformat_minor": 2
}
