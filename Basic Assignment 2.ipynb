{
 "cells": [
  {
   "cell_type": "raw",
   "metadata": {},
   "source": [
    "1.What are the two values of the Boolean data type? How do you write them?\n",
    "Ans :\n",
    "Two values of boolean data type are  1 and 0.They are written as True and False"
   ]
  },
  {
   "cell_type": "raw",
   "metadata": {},
   "source": [
    "2. What are the three different types of Boolean operators?\n",
    "Ans:\n",
    "Three different types of boolean operators are AND , OR ,NOT\n",
    "AND -->  a and b -->returns 1 only when the both operands are True\n",
    "OR  -->  a or b -->returns 1 when the both operands are True or either of the operands are True\n",
    "NOT -->  not a--> returns complement of a value (if a=True -->not a returns False )"
   ]
  },
  {
   "cell_type": "code",
   "execution_count": null,
   "metadata": {},
   "outputs": [],
   "source": [
    "\"\"\"3. Make a list of each Boolean operators truth tables (i.e. every possible combination of Boolean\n",
    "values for the operator and what it evaluate ).\"\"\"\n",
    "# Ans :\n",
    "for i in range (False,True+1):\n",
    "    for j in range(False,True+1):\n",
    "        print(i, \"AND\" ,j ,i and j)\n",
    "for i in range (False,True+1):\n",
    "    for j in range(False,True+1):\n",
    "        print(i, \"OR\" ,j ,i or j)\n",
    "for i in range (False,True+1):\n",
    "        print(i, \"NOT\" ,int(not i))\n",
    "        "
   ]
  },
  {
   "cell_type": "code",
   "execution_count": null,
   "metadata": {},
   "outputs": [],
   "source": [
    "#4.What are the values of the following expressions?\n",
    "(5 >4) and (3 == 5) --->False\n",
    "not (5 > 4)--->False\n",
    "(5 >4) or (3 == 5)--->True\n",
    "not ((5 > 4) or (3 == 5))-->False\n",
    "(True and True) and (True == False)--->False\n",
    "(not False) or (not True)-->True"
   ]
  },
  {
   "cell_type": "raw",
   "metadata": {},
   "source": [
    "#5 .What are the six comparison operators?\n",
    "Ans:\n",
    "\"==\"---> equal \n",
    "\"!=\"---> not equal\n",
    "\"<\" ---> less than\n",
    "\">\" ---> greater than\n",
    "\"<=\"---> less than or equal to\n",
    "\">=\"---> greater than or equal to\n"
   ]
  },
  {
   "cell_type": "raw",
   "metadata": {},
   "source": [
    "#6.How do you tell the difference between the equal to and assignment operators?Describe a\n",
    "condition and when you would use one.\n",
    "Ans:\n",
    "\"=\" is assignment operator\n",
    "\"==\" is equal operator\n",
    "= is used when assigining value to any variable \n",
    "== is used when comparing two variables/values\n",
    "\n",
    "\n"
   ]
  },
  {
   "cell_type": "code",
   "execution_count": null,
   "metadata": {},
   "outputs": [],
   "source": [
    "#7.Identify the three blocks in this code:\n",
    "spam = 0\n",
    "if spam == 10:\n",
    "    print(\"eggs\")\n",
    "    if spam>5:\n",
    "        print(\"bacon\")\n",
    "else:\n",
    "    print(\"ham\")\n",
    "    print(\"spam\")\n",
    "    print(\"spam\")\n",
    "    \n",
    "    \"\"\" Three blocks of the code\n",
    "    1.in the else block we are printing \"spam\" two times which is redundant . if we want value of spam , we can use print(spam).\n",
    "   \n",
    "   Request:\n",
    "   Please post the question in code format . in the given question thay all fall in single line ,which is difficult to \n",
    "   differntiate\n",
    "    \"\"\""
   ]
  },
  {
   "cell_type": "code",
   "execution_count": null,
   "metadata": {},
   "outputs": [],
   "source": [
    "#8.Write code that prints Hello if 1 is stored in spam, prints Howdy if 2 is stored in spam, and prints\n",
    "#Greetings! if anything else is stored in spam.\n",
    "\n",
    "spam=int(input(\"Enter the number:  \"))\n",
    "if spam==1:\n",
    "    print(\"Hello\")\n",
    "elif spam==2:\n",
    "    print(\"Howdy\")\n",
    "else:\n",
    "    print(\"Greetings!\")"
   ]
  },
  {
   "cell_type": "code",
   "execution_count": null,
   "metadata": {},
   "outputs": [],
   "source": [
    "#9.If your programme is stuck in an endless loop, what keys you’ll press?\n",
    "#Ans : ctrl+c"
   ]
  },
  {
   "cell_type": "code",
   "execution_count": null,
   "metadata": {},
   "outputs": [],
   "source": [
    "#10.How can you tell the difference between break and continue?\n",
    "#Ans :\n",
    "\"\"\"break --> ends the loop completely\n",
    "   continue= -->skips executing the statement below continue statement\n",
    "example:\"\"\"\n",
    "a=20\n",
    "while(a<30):\n",
    "    a+=1\n",
    "    if a<23:\n",
    "        continue\n",
    "    print(a)\n",
    "    if a==25:\n",
    "        break\n",
    "    \n",
    "\n",
    "\"\"\"in the above code when a==25 total while loop ends although a is still less than 30\n",
    "Also in the above the code below contiue won't execute till 23\"\"\"\n",
    "\n",
    "\n"
   ]
  },
  {
   "cell_type": "code",
   "execution_count": null,
   "metadata": {},
   "outputs": [],
   "source": [
    "#11 In a for loop, what is the difference between range(10), range(0, 10), and range(0, 10, 1)?\n",
    "\n",
    "\"\"\"\n",
    "range(10)--> value from 0 to 9\n",
    "range(0,10)-->value from 0 to 9\n",
    "range(0,10,1)-->value from 0 to 9 -->with step size 1  \n",
    "\n",
    "\n",
    "\"\"\""
   ]
  },
  {
   "cell_type": "code",
   "execution_count": null,
   "metadata": {},
   "outputs": [],
   "source": [
    "\"\"\" 12.Write a short program that prints the numbers 1 to 10 using a for loop. Then write an equivalent\n",
    "program that prints the numbers 1 to 10 using a while loop\"\"\"\n",
    "for i in range(1,11):\n",
    "    print(i)\n",
    "a=1\n",
    "while(a<11):\n",
    "    print(a)\n",
    "    a+=1"
   ]
  },
  {
   "cell_type": "code",
   "execution_count": null,
   "metadata": {},
   "outputs": [],
   "source": [
    "# 13.If you had a function named bacon() inside a module named spam, how would you call it after\n",
    "# importing spam?"
   ]
  }
 ],
 "metadata": {
  "kernelspec": {
   "display_name": "Python 3",
   "language": "python",
   "name": "python3"
  },
  "language_info": {
   "codemirror_mode": {
    "name": "ipython",
    "version": 3
   },
   "file_extension": ".py",
   "mimetype": "text/x-python",
   "name": "python",
   "nbconvert_exporter": "python",
   "pygments_lexer": "ipython3",
   "version": "3.7.3"
  }
 },
 "nbformat": 4,
 "nbformat_minor": 2
}
