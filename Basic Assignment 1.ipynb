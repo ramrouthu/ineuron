{
 "cells": [
  {
   "cell_type": "code",
   "execution_count": null,
   "metadata": {},
   "outputs": [],
   "source": [
    "1. In the below elements which of them are values or an expression? eg:- values can be integer or string and expressions will be mathematical operators.\n",
    "Ans:\n",
    "* --- expression\n",
    "'hello'---value\n",
    "-87.8---value\n",
    "- ---expression\n",
    "/ ---expression\n",
    "+\t--->expression\n",
    "6 --->Value"
   ]
  },
  {
   "cell_type": "code",
   "execution_count": null,
   "metadata": {},
   "outputs": [],
   "source": [
    "#2. What is the difference between string and variable?\n",
    "#Ans:\n",
    "                  String                                            Variable\n",
    "         1.String is a data type                  1.variable is the one to which a value of any datatype is assigned to.\n",
    "            Example:'ram','routhu'                         Example:p=20,m='ram'---p and m are variables\n",
    "         2.String is immutable                    2.Value of Variable can be changed  any times \n",
    "                                                          Example:n=30 ,n=40,n='ram'--->variable takes the latest assignment\n"
   ]
  },
  {
   "cell_type": "code",
   "execution_count": null,
   "metadata": {},
   "outputs": [],
   "source": [
    "#3. Describe three different data types.\n",
    "#Ans:\n",
    "a.String(str)--takes the alphabetical characters/words .Also considers numericals or aplhanumericals within single/double quotes as string \n",
    "                                Example: ram,den,'102','safd212jh'\n",
    "b.Complex--- takes numericals of complex form(combination of real and imaginary)\n",
    "                            Example: 3+4j\n",
    "c.Integer ----takes numericals of real form\n",
    "                             Example : 20, 30 "
   ]
  },
  {
   "cell_type": "code",
   "execution_count": null,
   "metadata": {},
   "outputs": [],
   "source": []
  },
  {
   "cell_type": "code",
   "execution_count": null,
   "metadata": {},
   "outputs": [],
   "source": [
    "#4.What is an expression made up of? What do all expressions do?\n",
    "#Ans:\n",
    "An Expression is a sequence or combination of values, variables, operators and function calls that always produces or returns a result value.\n",
    "\n",
    "Example: x = 5, y = 3, z = x + y\n",
    "\n",
    "In the above example x, y and z are variables, 5 and 3 are values, = and + are operators.\n",
    "\n",
    "So, the first combination x = 5 is an expression, the second combination y = 3 is an another expression and at last, z = x + y is also an expression.\n",
    "\n",
    "– An Expression always evaluates (calculate) to itself."
   ]
  },
  {
   "cell_type": "code",
   "execution_count": null,
   "metadata": {},
   "outputs": [],
   "source": [
    "#5. This assignment statements, like spam = 10. What is the difference between an expression and a statement?\n",
    "#Ans :\n",
    "multiple expressions together makes a statement \n",
    "Expression->spam =10 \n",
    "Statement -> a=10 and b=20 (Returns boolean value)"
   ]
  },
  {
   "cell_type": "code",
   "execution_count": null,
   "metadata": {},
   "outputs": [],
   "source": [
    "#6. After running the following code, what does the variable bacon contain?\n",
    "#bacon = 22\n",
    "#bacon + 1\n",
    "#Ans:\n",
    "23\n",
    "bacon+1 increments the value by 1 , which makes it 23(22+1)\n"
   ]
  },
  {
   "cell_type": "code",
   "execution_count": null,
   "metadata": {},
   "outputs": [],
   "source": [
    "\"\"\"7. What should the values of the following two terms be?\n",
    "'spam' + 'spamspam'\n",
    "'spam' * 3 \"\"\"\n",
    "#Ans :\n",
    "'spamspamspam' -- due to concatination operator\n",
    "'spamspamspan'-- due to multiplication operator"
   ]
  },
  {
   "cell_type": "code",
   "execution_count": null,
   "metadata": {},
   "outputs": [],
   "source": [
    "#8. Why is eggs a valid variable name while 100 is invalid?\n",
    "#Ans:\n",
    "There are some rules to be taken in to consideration while giving variable name \n",
    "1.variable name shouldn't start with numericals---> 2b \n",
    "2.variable name shouldn't be a number---> 2\n",
    "3.variable name shouldn't be a special character---> $,&\n",
    "Above is the reason why 100 is invalid\n"
   ]
  },
  {
   "cell_type": "code",
   "execution_count": null,
   "metadata": {},
   "outputs": [],
   "source": [
    "#9. What three functions can be used to get the integer, floating-point number, or string version of a value?\n",
    "#Ans:\n",
    "int(value)\n",
    "float(value)\n",
    "str(value)"
   ]
  },
  {
   "cell_type": "code",
   "execution_count": null,
   "metadata": {},
   "outputs": [],
   "source": [
    "#10. Why does this expression cause an error? How can you fix it?\n",
    "#'I have eaten ' + 99 + ' burritos.'\n",
    "#Àns:\n",
    "This expression causing error due to concatination issue. As 99 is integer data type and 'i have eaten ' is of string type concatination is not possible.\n",
    "Fix:\n",
    "Convert 99 in to string type using \"Typecasting\"\n",
    "'I have eaten'+str(99)+'burritos.'\n",
    "Output:\n",
    "'I have eaten99burritos.'"
   ]
  }
 ],
 "metadata": {
  "kernelspec": {
   "display_name": "Python 3",
   "language": "python",
   "name": "python3"
  },
  "language_info": {
   "codemirror_mode": {
    "name": "ipython",
    "version": 3
   },
   "file_extension": ".py",
   "mimetype": "text/x-python",
   "name": "python",
   "nbconvert_exporter": "python",
   "pygments_lexer": "ipython3",
   "version": "3.7.3"
  }
 },
 "nbformat": 4,
 "nbformat_minor": 2
}
