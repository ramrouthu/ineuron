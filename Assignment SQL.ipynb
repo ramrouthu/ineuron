{
 "cells": [
  {
   "cell_type": "code",
   "execution_count": null,
   "id": "a57ad20c",
   "metadata": {},
   "outputs": [],
   "source": [
    "\"\"\"Q-1. Write an SQL query to fetch “FIRST_NAME” from Worker table using the alias\n",
    "name as <WORKER_NAME>.\n",
    "Ans: select FIRST_NAME as WORKER_NAME from Worker\n",
    "Q2.Write an SQL query to fetch unique values of DEPARTMENT from Worker table.\n",
    "Ans:Select Distinct Department from worker\n",
    "Q3 Write an SQL query to show the last 5 record from a table.\n",
    "Ans. Select * From worker order by Id desc limit 5  \"\"\""
   ]
  },
  {
   "cell_type": "code",
   "execution_count": null,
   "id": "08a9e354",
   "metadata": {},
   "outputs": [],
   "source": []
  }
 ],
 "metadata": {
  "kernelspec": {
   "display_name": "Python 3 (ipykernel)",
   "language": "python",
   "name": "python3"
  },
  "language_info": {
   "codemirror_mode": {
    "name": "ipython",
    "version": 3
   },
   "file_extension": ".py",
   "mimetype": "text/x-python",
   "name": "python",
   "nbconvert_exporter": "python",
   "pygments_lexer": "ipython3",
   "version": "3.9.12"
  }
 },
 "nbformat": 4,
 "nbformat_minor": 5
}
