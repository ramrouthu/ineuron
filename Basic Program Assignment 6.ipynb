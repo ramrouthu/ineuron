{
 "cells": [
  {
   "cell_type": "code",
   "execution_count": null,
   "metadata": {},
   "outputs": [],
   "source": [
    "\n",
    "'''1.Write a Python Program to Display Fibonacci Sequence Using Recursion?'''\n",
    "def fib_func(n):\n",
    "    if n==1 or n==2:\n",
    "        return 1\n",
    "    else:\n",
    "        return (fib_func(n-1)+fib_func(n-2))\n",
    "\n",
    "print(fib_func(5))\n",
    "\n",
    "'''2.Write a Python Program to Find Factorial of Number Using Recursion?'''\n",
    "\n",
    "def fact(n):\n",
    "    if n==1:\n",
    "        return 1\n",
    "    else:\n",
    "        return n*fact(n-1)\n",
    "\n",
    "print(fact(5))\n",
    "\n",
    "'''3.Write a Python Program to calculate your Body Mass Index'''\n",
    "def BMI(Height_feet,Weight_kgs):\n",
    "    height=str(Height_feet).split('.')\n",
    "    h=(int(height[0])*0.3048)+(0.0254*int(height[1]))\n",
    "    bmi_Value=(Weight_kgs)/(h**2)\n",
    "    if bmi_Value<18:\n",
    "        condition ='Your BMI Value is: '+str(format(bmi_Value))+' You are underweight'\n",
    "    elif bmi_Value>=18 and bmi_Value<24.9:\n",
    "        condition='Your BMI Value is: '+str(format(bmi_Value)) + 'You are Healthy'\n",
    "    elif bmi_Value>=25 and bmi_Value<29.9:\n",
    "        condition = 'Your BMI Value is: ' + str(format(bmi_Value)) + 'You are overweight'\n",
    "    elif bmi_Value>=30 and bmi_Value<39.9:\n",
    "        condition = 'Your BMI Value is: ' + str(format(bmi_Value)) + 'You are overweight'\n",
    "    return condition\n",
    "\n",
    "print(BMI(5.10,22))\n",
    "\n",
    "\n",
    "\n",
    "\n",
    "'''4.Write a Python Program to calculate the natural logarithm of any number?'''\n",
    "\n",
    "def natural_log(n):\n",
    "    import math\n",
    "    log_value=math.log(n,2.718)\n",
    "    return print(log_value)\n",
    "\n",
    "natural_log(100)\n",
    "\n",
    "\n",
    "\n",
    "'''5.Write a Python Program for cube sum of first n natural numbers?'''\n",
    "def cube_sum(n):\n",
    "    sum_natural=0\n",
    "    for i in range(1,(n+1)):\n",
    "        sum_natural+=i\n",
    "    return (print(sum_natural**3))\n",
    "\n",
    "cube_sum(2)\n"
   ]
  },
  {
   "cell_type": "code",
   "execution_count": null,
   "metadata": {},
   "outputs": [],
   "source": []
  }
 ],
 "metadata": {
  "kernelspec": {
   "display_name": "Python 3",
   "language": "python",
   "name": "python3"
  },
  "language_info": {
   "codemirror_mode": {
    "name": "ipython",
    "version": 3
   },
   "file_extension": ".py",
   "mimetype": "text/x-python",
   "name": "python",
   "nbconvert_exporter": "python",
   "pygments_lexer": "ipython3",
   "version": "3.7.3"
  }
 },
 "nbformat": 4,
 "nbformat_minor": 2
}
